{
  "cells": [
    {
      "cell_type": "markdown",
      "metadata": {},
      "source": [
        "# Linear Regression from Scratch\n",
        "This notebook demonstrates how to implement Linear Regression from scratch using Python. ",
        "We use a dataset containing information about `YearsExperience` and corresponding `Salary`."
      ]
    },
    {
      "cell_type": "code",
      "execution_count": null,
      "metadata": {},
      "outputs": [],
      "source": [
        "# Import necessary libraries\n",
        "import pandas as pd\n",
        "import numpy as np\n\n",
        "# Load the dataset\n",
        "file_path = 'Salary_dataset.csv'  # Ensure the file is in the same directory\n",
        "data = pd.read_csv(file_path)\n\n",
        "# Display the first few rows of the dataset\n",
        "data.head()"
      ]
    },
    {
      "cell_type": "markdown",
      "metadata": {},
      "source": [
        "### Data Cleaning and Preprocessing"
      ]
    },
    {
      "cell_type": "code",
      "execution_count": null,
      "metadata": {},
      "outputs": [],
      "source": [
        "# Drop unnecessary columns\n",
        "data_cleaned = data.drop(columns=['Unnamed: 0'])\n\n",
        "# Separate the features (X) and target (y)\n",
        "X = data_cleaned['YearsExperience'].values\n",
        "y = data_cleaned['Salary'].values\n\n",
        "# Display the shapes of X and y\n",
        "X.shape, y.shape"
      ]
    },
    {
      "cell_type": "markdown",
      "metadata": {},
      "source": [
        "### Linear Regression Training from Scratch"
      ]
    },
    {
      "cell_type": "code",
      "execution_count": null,
      "metadata": {},
      "outputs": [],
      "source": [
        "# Step 1: Calculate the coefficients (m: slope, b: intercept)\n",
        "n = len(X)\n",
        "mean_x = np.mean(X)\n",
        "mean_y = np.mean(y)\n\n",
        "# Using the formulas for slope (m) and intercept (b)\n",
        "numerator = np.sum((X - mean_x) * (y - mean_y))\n",
        "denominator = np.sum((X - mean_x)**2)\n",
        "m = numerator / denominator\n",
        "b = mean_y - m * mean_x\n\n",
        "m, b"
      ]
    },
    {
      "cell_type": "markdown",
      "metadata": {},
      "source": [
        "### Model Evaluation and Predictions"
      ]
    },
    {
      "cell_type": "code",
      "execution_count": null,
      "metadata": {},
      "outputs": [],
      "source": [
        "# Step 2: Predict the values using the linear equation\n",
        "y_pred = m * X + b\n\n",
        "# Step 3: Calculate Mean Squared Error (MSE)\n",
        "mse = np.mean((y - y_pred)**2)\n",
        "mse"
      ]
    },
    {
      "cell_type": "markdown",
      "metadata": {},
      "source": [
        "The model has been trained and evaluated. The calculated coefficients and error metrics are displayed above."
      ]
    }
  ],
  "metadata": {
    "kernelspec": {
      "display_name": "Python 3",
      "language": "python",
      "name": "python3"
    },
    "language_info": {
      "codemirror_mode": {
        "name": "ipython",
        "version": 3
      },
      "file_extension": ".py",
      "mimetype": "text/x-python",
      "name": "python",
      "nbconvert_exporter": "python",
      "pygments_lexer": "ipython3",
      "version": "3.8.10"
    }
  },
  "nbformat": 4,
  "nbformat_minor": 2
}
